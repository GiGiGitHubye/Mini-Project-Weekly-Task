{
 "cells": [
  {
   "cell_type": "markdown",
   "id": "1e6e4ddf-19c6-4de4-ac53-ab60a607cb2a",
   "metadata": {},
   "source": [
    "## Week 2 Exercises"
   ]
  },
  {
   "cell_type": "code",
   "execution_count": 22,
   "id": "cd1c59d3-549c-4890-8d87-7414a4f350f8",
   "metadata": {},
   "outputs": [],
   "source": [
    "import numpy as np\n",
    "import time\n",
    "import matplotlib.pyplot as plt"
   ]
  },
  {
   "cell_type": "markdown",
   "id": "8548b02f-dfd1-49dd-bfc0-5b80a2ab6b9e",
   "metadata": {},
   "source": [
    "1. Find the range of values for each of the following data types:\n",
    "    * `uint8`\n",
    "    * `int8`\n",
    "    * `uint32`\n",
    "    * `int32`"
   ]
  },
  {
   "cell_type": "code",
   "execution_count": 23,
   "id": "4303d1be-5ef5-430f-aa12-368aa9638afd",
   "metadata": {},
   "outputs": [
    {
     "data": {
      "text/plain": [
       "((0, 255), (-128, 127), (0, 4294967295), (-2147483648, 2147483647))"
      ]
     },
     "execution_count": 23,
     "metadata": {},
     "output_type": "execute_result"
    }
   ],
   "source": [
    "# Function to get the min and max values of a data type\n",
    "def get_range(data_type):\n",
    "    return np.iinfo(data_type).min, np.iinfo(data_type).max\n",
    "\n",
    "# Ranges of data types\n",
    "uint8_range = get_range(np.uint8)\n",
    "int8_range = get_range(np.int8)\n",
    "uint32_range = get_range(np.uint32)\n",
    "int32_range = get_range(np.int32)\n",
    "\n",
    "(uint8_range, int8_range, uint32_range, int32_range)"
   ]
  },
  {
   "cell_type": "markdown",
   "id": "95684f77-6ffd-48ce-aeea-54b688c5aa0c",
   "metadata": {},
   "source": [
    "2. Try to write a simple custom function to determine whether a given integer is odd or even number."
   ]
  },
  {
   "cell_type": "code",
   "execution_count": 24,
   "id": "8a11bffc-b8e9-4bab-bbcc-f78fdc8bba1b",
   "metadata": {},
   "outputs": [
    {
     "name": "stdout",
     "output_type": "stream",
     "text": [
      "Even\n",
      "Odd\n"
     ]
    }
   ],
   "source": [
    "def check_odd_even(number):\n",
    "  \"\"\"\n",
    "  This function checks if a given integer is even.\n",
    "\n",
    "  Args:\n",
    "      number: The integer to check.\n",
    "\n",
    "  Returns:\n",
    "      True if the number is even, False otherwise.\n",
    "  \"\"\"\n",
    "  if number % 2 == 0:\n",
    "      return \"Even\"\n",
    "  else:\n",
    "    return \"Odd\"\n",
    "\n",
    "# Example usage\n",
    "print (check_odd_even(2))\n",
    "print (check_odd_even(3))"
   ]
  },
  {
   "cell_type": "markdown",
   "id": "ce0d96f6-084b-480d-a8a0-c8cb331ca584",
   "metadata": {},
   "source": [
    "3. Write a simple example code to show that Numpy is more efficient in numerical computation of large arrays of data than equivalent Python list."
   ]
  },
  {
   "cell_type": "code",
   "execution_count": 27,
   "id": "bda8112c-7d3f-43cf-ad6e-151291422f33",
   "metadata": {},
   "outputs": [
    {
     "name": "stdout",
     "output_type": "stream",
     "text": [
      "Time taken using Python lists: 0.048112 seconds\n",
      "Time taken using NumPy arrays: 0.001012 seconds\n"
     ]
    }
   ],
   "source": [
    "size = 1000000\n",
    "list1 = list(range(size))\n",
    "list2 = list(range(size))\n",
    "array1 = np.arange(size)\n",
    "array2 = np.arange(size)\n",
    "\n",
    "start_time = time.time()\n",
    "result_list = [x + y for x, y in zip(list1, list2)]\n",
    "list_time = time.time() - start_time\n",
    "\n",
    "start_time = time.time()\n",
    "result_array = array1 + array2\n",
    "numpy_time = time.time() - start_time\n",
    "\n",
    "print(f\"Time taken using Python lists: {list_time:.6f} seconds\")\n",
    "print(f\"Time taken using NumPy arrays: {numpy_time:.6f} seconds\")"
   ]
  },
  {
   "cell_type": "markdown",
   "id": "904fbdd0-ff11-4d2b-a0a3-a0e419607619",
   "metadata": {},
   "source": [
    "4. Run the following codes:\n",
    "```python\n",
    "    # create a 1D array\n",
    "    my_arr = np.arange(10)\n",
    "    print(\"Initial my_arr: \", my_arr)\n",
    "    arr_slice = my_arr\n",
    "    print(\"Initial arr_slice: \", arr_slice)\n",
    "\n",
    "    # change the first element of arr_slice\n",
    "    arr_slice[0] = 55\n",
    "\n",
    "    print(\"my_arr: \", my_arr)\n",
    "    print(\"arr_slice: \", arr_slice)\n",
    "```\n",
    "\n",
    "What do you notice? Propose a way to reassign `arr_slice` with new value **without modifying** `my_arr`."
   ]
  },
  {
   "cell_type": "code",
   "execution_count": 30,
   "id": "59eb65f3-cd26-483a-87c3-04da2b5d8c76",
   "metadata": {},
   "outputs": [
    {
     "name": "stdout",
     "output_type": "stream",
     "text": [
      "Initial my_arr:  [0 1 2 3 4 5 6 7 8 9]\n",
      "Initial arr_slice:  [0 1 2 3 4 5 6 7 8 9]\n",
      "my_arr:  [55  1  2  3  4  5  6  7  8  9]\n",
      "arr_slice:  [55  1  2  3  4  5  6  7  8  9]\n"
     ]
    }
   ],
   "source": [
    "    # create a 1D array\n",
    "    my_arr = np.arange(10)\n",
    "    print(\"Initial my_arr: \", my_arr)\n",
    "    arr_slice = my_arr\n",
    "    print(\"Initial arr_slice: \", arr_slice)\n",
    "\n",
    "    # change the first element of arr_slice\n",
    "    arr_slice[0] = 55\n",
    "\n",
    "    print(\"my_arr: \", my_arr)\n",
    "    print(\"arr_slice: \", arr_slice)"
   ]
  },
  {
   "cell_type": "markdown",
   "id": "408944ae-1e17-4b32-abc5-e5606558cc27",
   "metadata": {},
   "source": [
    "#### Finding\n",
    "When modify ```arr_slice``` , it also affects ```my_arr``` because both reference the same data.\n",
    "\n",
    "#### Solution\n",
    "Using ```.copy()``` method to creates a independent copy of the data in ```my_arr```"
   ]
  },
  {
   "cell_type": "markdown",
   "id": "afc289bc-ed5c-42a9-8bff-159e8f53303a",
   "metadata": {},
   "source": [
    "5. Create an image as shown as the following with the help of Numpy and matplotlib modules. You can arbitrarily set the dimension of the image and white circular spot at the middle."
   ]
  },
  {
   "cell_type": "code",
   "execution_count": 32,
   "id": "08639f12-89fc-4864-9956-af958f429b63",
   "metadata": {},
   "outputs": [
    {
     "data": {
      "image/png": "[encoded data removed]",
      "text/plain": [
       "<Figure size 640x480 with 1 Axes>"
      ]
     },
     "metadata": {},
     "output_type": "display_data"
    }
   ],
   "source": [
    "# Set the dimensions of the image\n",
    "width, height = 500, 500\n",
    "\n",
    "# Create a black background\n",
    "image = np.zeros((height, width))\n",
    "\n",
    "# Define the center and radius of the white circle\n",
    "center_x, center_y = width // 2, height // 2\n",
    "radius = 100\n",
    "\n",
    "# Create the white circle\n",
    "y, x = np.ogrid[:height, :width]\n",
    "mask = (x - center_x) ** 2 + (y - center_y) ** 2 <= radius ** 2\n",
    "image[mask] = 1\n",
    "\n",
    "# Display the image\n",
    "plt.imshow(image, cmap='gray')\n",
    "plt.axis('off')\n",
    "plt.show()"
   ]
  }
 ],
 "metadata": {
  "kernelspec": {
   "display_name": "Python 3 (ipykernel)",
   "language": "python",
   "name": "python3"
  },
  "language_info": {
   "codemirror_mode": {
    "name": "ipython",
    "version": 3
   },
   "file_extension": ".py",
   "mimetype": "text/x-python",
   "name": "python",
   "nbconvert_exporter": "python",
   "pygments_lexer": "ipython3",
   "version": "3.12.4"
  }
 },
 "nbformat": 4,
 "nbformat_minor": 5
}
