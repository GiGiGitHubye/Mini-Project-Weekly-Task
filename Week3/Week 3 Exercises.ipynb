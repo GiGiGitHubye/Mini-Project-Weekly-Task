{
 "cells": [
  {
   "cell_type": "markdown",
   "id": "1d730f4a-254a-4192-a6fe-a4c2e1b35a1e",
   "metadata": {},
   "source": [
    "## Exercises\n",
    "\n",
    " 1. Load and display the image 'dog.jfif'. Save the image in png format."
   ]
  },
  {
   "cell_type": "code",
   "execution_count": 4,
   "id": "4c7c9899-5ba0-4151-980c-5170e4ba9e54",
   "metadata": {},
   "outputs": [],
   "source": [
    "import cv2 as cv\n",
    "import numpy as np\n",
    "\n",
    "img = cv.imread('images/dog.jfif')\n",
    "\n",
    "cv.imshow('Dog', img)\n",
    "if cv.waitKey(0) & 0xFF == ord('s'):\n",
    "    cv.imwrite('dog.png', img)\n",
    "\n",
    "cv.destroyAllWindows()"
   ]
  },
  {
   "cell_type": "markdown",
   "id": "00362c7b-3e8d-4431-be7c-c1faac2ad21b",
   "metadata": {},
   "source": [
    " 2. *Suggest 2 ways and write codes to display 2 images simultaneously.* You can use any image snapped from your handphone, downloaded from internet or images from weekly materials on MS teams. The 2 images are original color image and its corresponding grayscale image."
   ]
  },
  {
   "cell_type": "code",
   "execution_count": 5,
   "id": "1faf90d6-cd24-4e88-a5e7-08426aa95337",
   "metadata": {},
   "outputs": [],
   "source": [
    "# Method 1 using OpenCV create two window\n",
    "color_image = cv.imread('dog.png')\n",
    "\n",
    "gray_image = cv.cvtColor(color_image, cv.COLOR_BGR2GRAY)\n",
    "\n",
    "cv.imshow('Color Image', color_image)\n",
    "cv.imshow('Grayscale Image', gray_image)\n",
    "\n",
    "cv.waitKey(0)\n",
    "cv.destroyAllWindows()"
   ]
  },
  {
   "cell_type": "code",
   "execution_count": 9,
   "id": "4b2549bf-a02b-420a-a68d-91e33b94706e",
   "metadata": {},
   "outputs": [],
   "source": [
    "# Method 2 using hconcat Function to display them side-by-side\n",
    "image = cv.imread('dog.png')\n",
    "\n",
    "gray_image = cv.cvtColor(image, cv.COLOR_BGR2GRAY)\n",
    "\n",
    "# Convert to 3-channel for consistent display\n",
    "gray_image_3ch = cv.cvtColor(gray_image, cv.COLOR_GRAY2BGR)\n",
    "\n",
    "# Horizontally concatenate the images\n",
    "combined_image = cv.hconcat([image, gray_image_3ch])\n",
    "\n",
    "cv.imshow('Color and Grayscale Images', combined_image)\n",
    "cv.waitKey(0)\n",
    "cv.destroyAllWindows()"
   ]
  },
  {
   "cell_type": "markdown",
   "id": "d0cb1a2a-f8b7-403c-8bea-ac0f138302a7",
   "metadata": {},
   "source": [
    " 3. Write codes that performs the following:\n",
    "    * Load the video “img_pexels.mp4” into the Python environment, resize it and display the videos with smaller frames (The frames can be of any size, as long as it is smaller). You can specify an arbitrary frame rate.\n",
    "    * Save it as a separate files: “smaller_img_pexels.avi” or \"smaller_img_pexels.mp4\""
   ]
  },
  {
   "cell_type": "code",
   "execution_count": 14,
   "id": "44dd95d7-867c-49eb-87e5-556158226490",
   "metadata": {},
   "outputs": [],
   "source": [
    "video = cv.VideoCapture('img_pexels.mp4')\n",
    "\n",
    "if not video.isOpened():\n",
    "    print('Error opening video file.')\n",
    "    exit()\n",
    "\n",
    "# Get original video properties\n",
    "frame_width = int(video.get(cv.CAP_PROP_FRAME_WIDTH))\n",
    "frame_height = int(video.get(cv.CAP_PROP_FRAME_HEIGHT))\n",
    "fps = video.get(cv.CAP_PROP_FPS)\n",
    "\n",
    "# Define new video dimensions and frame rate\n",
    "new_width = int(frame_width * 0.3)\n",
    "new_height = int(frame_height * 0.3)\n",
    "new_fps = 20\n",
    "\n",
    "# Create VideoWriter object for saving the output video\n",
    "fourcc = cv.VideoWriter_fourcc('X', 'V', 'I', 'D')  # XVID is the Codec for AVI\n",
    "out = cv.VideoWriter('smaller_img_pexels.avi', fourcc, new_fps, (new_width, new_height))\n",
    "\n",
    "# Process the video frame by frame\n",
    "while True:\n",
    "    ret, frame = video.read()\n",
    "\n",
    "    if not ret:\n",
    "        break\n",
    "\n",
    "    # Resize the frame\n",
    "    resized_frame = cv.resize(frame, (new_width, new_height))\n",
    "\n",
    "    # Write the resized frame to the output video file\n",
    "    out.write(resized_frame)\n",
    "\n",
    "    # Display the resized frame\n",
    "    cv.imshow('Resized Video', resized_frame)\n",
    "\n",
    "    if cv.waitKey(int(1000 / new_fps)) & 0xFF == ord('q'):\n",
    "        break\n",
    "        \n",
    "video.release()\n",
    "out.release()\n",
    "cv.destroyAllWindows()"
   ]
  },
  {
   "cell_type": "markdown",
   "id": "4054d25a-f729-47d7-a867-281950782dac",
   "metadata": {},
   "source": [
    "4. Enlarge the image \"dog.jfif\" by using different techniques:\n",
    "    1) Linear interpolation\n",
    "   2) Cubic interpolation\n",
    "   3) Nearest neighbor interpolation.\n",
    "\n",
    "Perform profiling on each method. Comment on the **execution times** and **quality of resulting images**."
   ]
  },
  {
   "cell_type": "code",
   "execution_count": 21,
   "id": "1460bf3e-7092-4b26-9b07-7fdb2b0aedcf",
   "metadata": {},
   "outputs": [
    {
     "name": "stdout",
     "output_type": "stream",
     "text": [
      "Linear Interpolation Time: 0.0009894 seconds\n",
      "Cubic Interpolation Time: 0.0018501 seconds\n",
      "Nearest Neighbor Interpolation Time: 0.0000000 seconds\n"
     ]
    }
   ],
   "source": [
    "import time\n",
    "\n",
    "img = cv.imread('images/dog.jfif')\n",
    "\n",
    "# Define new dimensions\n",
    "new_width = int(img.shape[1] * 3)\n",
    "new_height = int(img.shape[0] * 3)\n",
    "\n",
    "# Linear Interpolation\n",
    "start_time = time.time()\n",
    "img_linear = cv.resize(img, (new_width, new_height), interpolation=cv.INTER_LINEAR)\n",
    "linear_time = time.time() - start_time\n",
    "\n",
    "# Cubic Interpolation\n",
    "start_time = time.time()\n",
    "img_cubic = cv.resize(img, (new_width, new_height), interpolation=cv.INTER_CUBIC)\n",
    "cubic_time = time.time() - start_time\n",
    "\n",
    "# Nearest Neighbor Interpolation\n",
    "start_time = time.time()\n",
    "img_nearest = cv.resize(img, (new_width, new_height), interpolation=cv.INTER_NEAREST)\n",
    "nearest_time = time.time() - start_time\n",
    "\n",
    "cv.imshow(\"Linear\", img_linear)\n",
    "cv.imshow(\"Cubic\", img_cubic)\n",
    "cv.imshow(\"Nearest Neighbor\", img_nearest)\n",
    "cv.waitKey(0)\n",
    "cv.destroyAllWindows()\n",
    "\n",
    "# Print execution times\n",
    "print(f\"Linear Interpolation Time: {linear_time:.7f} seconds\")\n",
    "print(f\"Cubic Interpolation Time: {cubic_time:.7f} seconds\")\n",
    "print(f\"Nearest Neighbor Interpolation Time: {nearest_time:.7f} seconds\")"
   ]
  },
  {
   "cell_type": "markdown",
   "id": "068eecaf-9d6d-4be6-896d-d2d8c9b5a2ab",
   "metadata": {},
   "source": [
    "#### Execution Time:\n",
    "* Nearest Neighbor is the fastest interpolation method.\n",
    "* Linear Interpolation is faster than Cubic Interpolation.\n",
    "* Cubic Interpolation is the slowest interpolation method.\n",
    "\n",
    "#### Image Quality:\n",
    "* Nearest Neighbor: Fastest method but produce blocky and jagged images, especially along edges.\n",
    "* Linear Interpolation: Produce smoother image than Nearest Neighbor, but it can introduce some blurring, particularly in areas of transitions.\n",
    "* Cubic Interpolation: Produce the highest quality with lesser blurring and more smoother transitions."
   ]
  }
 ],
 "metadata": {
  "kernelspec": {
   "display_name": "Python 3 (ipykernel)",
   "language": "python",
   "name": "python3"
  },
  "language_info": {
   "codemirror_mode": {
    "name": "ipython",
    "version": 3
   },
   "file_extension": ".py",
   "mimetype": "text/x-python",
   "name": "python",
   "nbconvert_exporter": "python",
   "pygments_lexer": "ipython3",
   "version": "3.12.4"
  }
 },
 "nbformat": 4,
 "nbformat_minor": 5
}
