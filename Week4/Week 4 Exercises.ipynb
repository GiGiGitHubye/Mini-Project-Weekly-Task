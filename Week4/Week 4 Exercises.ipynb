{
 "cells": [
  {
   "cell_type": "markdown",
   "id": "1311115e-174e-4f81-b02e-ca1883e0f4c8",
   "metadata": {},
   "source": [
    "# Weekly Exercises\n",
    "1. Create a **random noise color and grayscale** image. You can set your own width and height, but keep the total number of pixels of both images identical."
   ]
  },
  {
   "cell_type": "code",
   "execution_count": 5,
   "id": "4c19e479-ccd8-4e09-9dba-5baa2a0030eb",
   "metadata": {},
   "outputs": [],
   "source": [
    "import cv2 as cv\n",
    "import numpy as np\n",
    "from utils import display_images\n",
    "\n",
    "width = 300\n",
    "height = 200\n",
    "\n",
    "color_image = np.random.randint(0, 256, (height, width, 3), dtype=np.uint8)\n",
    "\n",
    "gray_image = cv.cvtColor(color_image, cv.COLOR_BGR2GRAY)\n",
    "\n",
    "display_images([color_image,gray_image],('Random Noise Color Image', 'Grayscale Image'))\n",
    "\n",
    "cv.waitKey(0)\n",
    "cv.destroyAllWindows()\n"
   ]
  },
  {
   "cell_type": "markdown",
   "id": "c208c489-e372-44ac-831a-4253dd584bef",
   "metadata": {},
   "source": [
    "2. Convert the code chunk found under section <a href=\"#Section1\">Divide an image into smaller patches using cropping</a> into a function with the following signature:\n",
    "```python\n",
    "crop_grid(img, num_horizontal_grid, num_vertical_grid, line_color)\n",
    " # img is the source image\n",
    " # num_horizontal_grid and num_vertical_grid are the number of patches along x and y axes.\n",
    " # line_color is the color of the grid line.\n",
    " # The output of the function should be image with grids\n",
    "```"
   ]
  },
  {
   "cell_type": "code",
   "execution_count": 8,
   "id": "1828a590-cade-487a-a338-9249fd859d28",
   "metadata": {},
   "outputs": [],
   "source": [
    "def crop_grid(img, num_horizontal_grid, num_vertical_grid, line_color=(0, 255, 0)):\n",
    "    \"\"\"\n",
    "    Function to divide an image into smaller patches using cropping and draw a grid over it.\n",
    "    \n",
    "    Parameters:\n",
    "    ---\n",
    "    img: ndarray\n",
    "        Source image.\n",
    "    num_horizontal_grid: int\n",
    "        Number of patches along the x-axis.\n",
    "    num_vertical_grid: int\n",
    "        Number of patches along the y-axis.\n",
    "    line_color: tuple\n",
    "        Color of the grid lines in BGR format (default is green).\n",
    "    \n",
    "    Returns:\n",
    "    ---\n",
    "    grid_img: ndarray\n",
    "        Image with grid lines drawn on it.\n",
    "    \"\"\"\n",
    "    # Get the dimensions of the image\n",
    "    height, width = img.shape[:2]\n",
    "\n",
    "    # Calculate the size of each patch\n",
    "    patch_width = width // num_horizontal_grid\n",
    "    patch_height = height // num_vertical_grid\n",
    "\n",
    "    grid_img = img.copy()\n",
    "\n",
    "    # Horizontal lines\n",
    "    for i in range(1, num_vertical_grid):\n",
    "        y = i * patch_height\n",
    "        cv.line(grid_img, (0, y), (width, y), line_color, 1)\n",
    "\n",
    "    # Vertical lines\n",
    "    for i in range(1, num_horizontal_grid):\n",
    "        x = i * patch_width\n",
    "        cv.line(grid_img, (x, 0), (x, height), line_color, 1)\n",
    "\n",
    "    return grid_img"
   ]
  },
  {
   "cell_type": "code",
   "execution_count": 9,
   "id": "c6b565f5-f28f-4477-9431-bbadf3e89df6",
   "metadata": {},
   "outputs": [],
   "source": [
    "# Example usage:\n",
    "img = cv.imread('images/dog.jfif')\n",
    "\n",
    "num_horizontal_grid = 4\n",
    "num_vertical_grid = 3\n",
    "line_color = (0, 0, 255)\n",
    "\n",
    "grid_image = crop_grid(img, num_horizontal_grid, num_vertical_grid, line_color)\n",
    "\n",
    "cv.imshow('Image with Grid', grid_image)\n",
    "cv.waitKey(0)\n",
    "cv.destroyAllWindows()"
   ]
  },
  {
   "cell_type": "markdown",
   "id": "a9b68ef9-594a-4553-8cf2-ffab0bbb0b6b",
   "metadata": {},
   "source": [
    "3. How would you *change the brightness* of a **color image**? Suggest **two ways** to perform the image processing operations. Implement your methods by providing the example codes. You are free to choose any image."
   ]
  },
  {
   "cell_type": "code",
   "execution_count": 21,
   "id": "4b9b9e7d-b193-4fa5-b6f2-59f400b0725f",
   "metadata": {},
   "outputs": [],
   "source": [
    "# Method 1: HSV color space\n",
    "img = cv.imread('images/dog.jfif')\n",
    "\n",
    "img_hsv = cv.cvtColor(img, cv.COLOR_BGR2HSV)\n",
    "\n",
    "# Split channels\n",
    "h, s, v = cv.split(img_hsv)\n",
    "\n",
    "# Set v value\n",
    "v_new = np.ones_like(v) * 110\n",
    "v_new = np.uint8(v_new)\n",
    "\n",
    "# Merge channels\n",
    "transform = cv.merge((h, s, v_new))\n",
    "\n",
    "# Convert back to BGR\n",
    "transform_bgr = cv.cvtColor(transform, cv.COLOR_HSV2BGR)\n",
    "\n",
    "display_images([img, transform_bgr], ('Original', 'Value = 110'))"
   ]
  },
  {
   "cell_type": "code",
   "execution_count": 24,
   "id": "be42efc3-0dae-4880-b192-ad912a4a5bf2",
   "metadata": {},
   "outputs": [],
   "source": [
    "# Method 2: Direct Pixel Manipulation\n",
    "image = cv.imread('images/dog.jfif')\n",
    "\n",
    "# Convert image to float32 to prevent overflow/underflow issues\n",
    "image_float = image.astype(np.float32)\n",
    "\n",
    "# Increase brightness by 50\n",
    "brightness_value = 50  \n",
    "\n",
    "brightened_image = image_float + brightness_value\n",
    "\n",
    "# Clip the values to be in the valid range [0, 255] and convert back to uint8\n",
    "brightened_image = np.clip(brightened_image, 0, 255).astype(np.uint8)\n",
    "\n",
    "# Display the images\n",
    "display_images([img, brightened_image], ('Original', 'Brightened'))\n",
    "cv.waitKey(0)\n",
    "cv.destroyAllWindows()"
   ]
  },
  {
   "cell_type": "markdown",
   "id": "36d05a01-e5f6-4bc4-9f35-1ef2ae92df91",
   "metadata": {},
   "source": [
    "4. Provide at least one common use cases for the following color spaces:\n",
    "    - RGB\n",
    "    - HSV\n",
    "    - CIELAB"
   ]
  },
  {
   "cell_type": "markdown",
   "id": "82163d53-d2c2-44e8-a198-91b9a7672a7e",
   "metadata": {},
   "source": [
    "### RGB\n",
    "- Digital Displays\n",
    "- The RGB color space represents colors as a combination of red, green, and blue light. It is the most common color space used for digital images, displays, and cameras."
   ]
  },
  {
   "cell_type": "code",
   "execution_count": 27,
   "id": "18381986-b359-4ce9-abe3-e97e4b210552",
   "metadata": {},
   "outputs": [],
   "source": [
    "# Load an image in RGB color space\n",
    "image = cv.imread('images/dog.jfif')\n",
    "cv.imshow('RGB Image', image)\n",
    "cv.waitKey(0)\n",
    "cv.destroyAllWindows()"
   ]
  },
  {
   "cell_type": "markdown",
   "id": "834bb5ea-72b2-4d71-b2db-c26f19300994",
   "metadata": {},
   "source": [
    "### HSV\n",
    "- Color-Based Image Segmentation and Object Detection\n",
    "- HSV is often used in computer vision applications for color-based image segmentation."
   ]
  },
  {
   "cell_type": "code",
   "execution_count": 46,
   "id": "9f32fdfd-6450-450a-aa3a-bf1bab46ccce",
   "metadata": {},
   "outputs": [],
   "source": [
    "image = cv.imread('images/dog.jfif')\n",
    "hsv_image = cv.cvtColor(image, cv.COLOR_BGR2HSV)\n",
    "\n",
    "# Define range of blue color in HSV\n",
    "lower_blue = np.array([110,50,50])\n",
    "upper_blue = np.array([130,255,255])\n",
    "\n",
    "# Threshold the HSV image to get only blue colors\n",
    "mask = cv.inRange(hsv_image, lower_blue, upper_blue)\n",
    "\n",
    "# Bitwise-AND mask and original image\n",
    "segmented_image = cv.bitwise_and(image, image, mask=mask)\n",
    "\n",
    "# Display results\n",
    "cv.imshow('Original Image', image)\n",
    "cv.imshow('Mask', mask)\n",
    "cv.imshow('Segmented Image', segmented_image)\n",
    "cv.waitKey(0)\n",
    "cv.destroyAllWindows()\n"
   ]
  },
  {
   "cell_type": "markdown",
   "id": "0003685b-1f18-47d2-9658-abbf2ebf53c6",
   "metadata": {},
   "source": [
    "### CIELAB\n",
    "- Color Correction and Color Difference Measurement\n",
    "- CIELAB can be used to ensure that colors remain consistent under different lighting conditions and across different devices.\n",
    "- It is also used for calculating the perceived difference between colors."
   ]
  },
  {
   "cell_type": "code",
   "execution_count": 39,
   "id": "695ee595-7664-4ce3-b7d4-dee2a86e5204",
   "metadata": {},
   "outputs": [],
   "source": [
    "image = cv.imread('images/dog.jfif')\n",
    "lab_image = cv.cvtColor(image, cv.COLOR_BGR2LAB)\n",
    "\n",
    "# Split the LAB image into L, A, and B channels\n",
    "l, a, b = cv.split(lab_image)\n",
    "\n",
    "# Display the channels\n",
    "cv.imshow('L Channel', l) # l = Lightness Channel\n",
    "cv.imshow('A Channel', a) # A = ranges from green to red\n",
    "cv.imshow('B Channel', b) # B = ranges from blue to yellow. \n",
    "cv.waitKey(0)\n",
    "cv.destroyAllWindows()\n"
   ]
  }
 ],
 "metadata": {
  "kernelspec": {
   "display_name": "Python 3 (ipykernel)",
   "language": "python",
   "name": "python3"
  },
  "language_info": {
   "codemirror_mode": {
    "name": "ipython",
    "version": 3
   },
   "file_extension": ".py",
   "mimetype": "text/x-python",
   "name": "python",
   "nbconvert_exporter": "python",
   "pygments_lexer": "ipython3",
   "version": "3.12.4"
  }
 },
 "nbformat": 4,
 "nbformat_minor": 5
}
