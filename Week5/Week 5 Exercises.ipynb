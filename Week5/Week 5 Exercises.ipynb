{
 "cells": [
  {
   "cell_type": "markdown",
   "id": "d570e038-1ff0-4d90-9fe6-c07d88b4cace",
   "metadata": {},
   "source": [
    "# Weekly activity\n",
    "1. Rotate image by 45 degrees without cropping the sides of the image. (Hint: There are 2 strategies to tackle these problems). Use _\"lena.jfif\"_ as the input image.\n",
    "    - Use external libraries `imutils`.  \n",
    "    - Modify the transformation matrix."
   ]
  },
  {
   "cell_type": "code",
   "execution_count": 20,
   "id": "3db7e64c-908c-4435-b783-9e2874374b21",
   "metadata": {},
   "outputs": [],
   "source": [
    "import cv2 as cv\n",
    "import imutils\n",
    "import numpy as np\n",
    "import random"
   ]
  },
  {
   "cell_type": "code",
   "execution_count": 26,
   "id": "e8abbd4c-43ae-46c8-8856-181185a57ea1",
   "metadata": {},
   "outputs": [],
   "source": [
    "image = cv.imread('images/lena.jfif')\n",
    "\n",
    "rotated_image = imutils.rotate_bound(image, 45)\n",
    "\n",
    "cv.imshow('Original Image', image)\n",
    "cv.imshow('Rotated Image', rotated_image)\n",
    "cv.waitKey(0)\n",
    "cv.destroyAllWindows()"
   ]
  },
  {
   "cell_type": "markdown",
   "id": "8120a0e0-e7fb-4304-bc5b-621191e51bd8",
   "metadata": {},
   "source": [
    "2. Use the images with titles: _\"flower.jfif\"_ and _\"native-bee.png\"_. I want to put flower above an image. If I add two images, it will change color. If I blend it, I get a transparent effect. But I want it to be opaque. If it was a rectangular region, we could use the ROI as we did in the previous section. But flower is not a rectangular region. This is where bitwise operations, like AND, OR, NOT and XOR really come in handy. The associated functions are `cv.bitwise_and()`, `cv.bitwise_or()` and `cv.bitwise_not()`. You need to use `cv.threshold` function to segment the flower. Please refer to [online documentation](https://docs.opencv.org/4.x/d0/d86/tutorial_py_image_arithmetics.html) for more info. The result should resemble the following:  \n",
    "![bee and flowers](img_embed/activity3.PNG \"bee_flower\")"
   ]
  },
  {
   "cell_type": "code",
   "execution_count": 17,
   "id": "70ca9307-a3a5-4718-8f00-3c66794462d1",
   "metadata": {},
   "outputs": [],
   "source": [
    "flower = cv.imread('images/flower.jfif')\n",
    "bee = cv.imread('images/native-bee.png')\n",
    "\n",
    "# Create a mask for the flower\n",
    "gray_flower = cv.cvtColor(flower, cv.COLOR_BGR2GRAY)\n",
    "_, mask = cv.threshold(gray_flower, 200, 255, cv.THRESH_BINARY_INV)\n",
    "\n",
    "# Create an ROI for the flower on the bee image\n",
    "rows, cols, _ = flower.shape\n",
    "roi = bee[0:rows, 0:cols]\n",
    "\n",
    "# Now black-out the area of flower in ROI\n",
    "masked_bee = cv.bitwise_and(roi, roi, mask=mask)\n",
    "\n",
    "# Put flower in ROI and modify the main image\n",
    "final_roi = cv.bitwise_or(masked_bee, flower)\n",
    "bee[0:rows, 0:cols] = final_roi\n",
    "\n",
    "cv.imshow('Flower on Bee', bee)\n",
    "cv.waitKey(0)\n",
    "cv.destroyAllWindows()"
   ]
  },
  {
   "cell_type": "markdown",
   "id": "79c2f588-b3b6-4eba-83aa-d4ec6a4ef594",
   "metadata": {},
   "source": [
    "3. Write a function that randomly crop the central region of an image. The method signature should be as shown in the following:\n",
    "```\n",
    "random_center_crop(image, min_crop_ratio, max_crop_ratio)\n",
    "```"
   ]
  },
  {
   "cell_type": "code",
   "execution_count": 39,
   "id": "1aa5d50b-c2ab-4db1-ac0e-30ff62d70196",
   "metadata": {},
   "outputs": [],
   "source": [
    "def random_center_crop(image, min_crop_ratio, max_crop_ratio):\n",
    "    \"\"\"\n",
    "    Yoooooo\n",
    "    \"\"\"\n",
    "\n",
    "    height, width = image.shape[:2]\n",
    "\n",
    "    # Generate random crop ratio within the specified range\n",
    "    crop_ratio = random.uniform(min_crop_ratio, max_crop_ratio)\n",
    "\n",
    "    # Calculate new dimensions for the cropped region\n",
    "    new_width = int(width * crop_ratio)\n",
    "    new_height = int(height * crop_ratio)\n",
    "\n",
    "    # Calculate starting point for cropping (centered)\n",
    "    x_start = (width - new_width) // 2\n",
    "    y_start = (height - new_height) // 2\n",
    "\n",
    "    # Crop the image\n",
    "    cropped_image = image[y_start:y_start + new_height, x_start:x_start + new_width]\n",
    "\n",
    "    return cropped_image"
   ]
  },
  {
   "cell_type": "code",
   "execution_count": 40,
   "id": "63c6ef7e-ecf1-4c6f-a0a6-c4259d4ab670",
   "metadata": {},
   "outputs": [],
   "source": [
    "# Example usage\n",
    "img = cv.imread('images/flower.jfif')\n",
    "cropped_img = random_center_crop(img, 0.5, 0.5)\n",
    "cv.imshow(\"Cropped Image\", cropped_img)\n",
    "cv.imshow('Original', img)\n",
    "cv.waitKey(0)\n",
    "cv.destroyAllWindows()"
   ]
  },
  {
   "cell_type": "markdown",
   "id": "e358f9cf-cfb8-4aa1-b82b-ba81e712f9f3",
   "metadata": {},
   "source": [
    "4. Aside from Gaussian noise, name another common type of noise. Write the code to demonstrate how the noise can be included in an image."
   ]
  },
  {
   "cell_type": "code",
   "execution_count": 41,
   "id": "49001e4c-05de-41d7-ae2c-2c7d2dcf2e0b",
   "metadata": {},
   "outputs": [],
   "source": [
    "def add_salt_and_pepper_noise(image, amount):\n",
    "    \"\"\"\n",
    "    Adds salt-and-pepper noise to an image.\n",
    "\n",
    "    Args:\n",
    "        image: The input image as a NumPy array.\n",
    "        amount: The proportion of pixels to be affected by noise (0.0 to 1.0).\n",
    "\n",
    "    Returns:\n",
    "        The noisy image as a NumPy array.\n",
    "    \"\"\"\n",
    "\n",
    "    # Create a copy of the image to modify\n",
    "    noisy_image = image.copy()\n",
    "\n",
    "    # Generate random indices for salt (white) pixels\n",
    "    num_salt = int(amount * image.size * 0.5)\n",
    "    coords = [np.random.randint(0, i - 1, int(num_salt)) for i in image.shape]\n",
    "    noisy_image[tuple(coords)] = 255  # Set salt pixels to white\n",
    "\n",
    "    # Generate random indices for pepper (black) pixels\n",
    "    num_pepper = int(amount * image.size * 0.5)\n",
    "    coords = [np.random.randint(0, i - 1, int(num_pepper)) for i in image.shape]\n",
    "    noisy_image[tuple(coords)] = 0  # Set pepper pixels to black\n",
    "\n",
    "    return noisy_image"
   ]
  },
  {
   "cell_type": "code",
   "execution_count": 42,
   "id": "8ebbedcf-fc70-4eb1-a231-3b2f0bca495f",
   "metadata": {},
   "outputs": [],
   "source": [
    "# Example\n",
    "img = cv.imread('images/flower.jfif')\n",
    "noisy_img = add_salt_and_pepper_noise(img, 0.05)  # Add 5% salt-and-pepper noise\n",
    "\n",
    "cv.imshow('Original Image', img)\n",
    "cv.imshow('Noisy Image', noisy_img)\n",
    "cv.waitKey(0)\n",
    "cv.destroyAllWindows()"
   ]
  }
 ],
 "metadata": {
  "kernelspec": {
   "display_name": "Python 3 (ipykernel)",
   "language": "python",
   "name": "python3"
  },
  "language_info": {
   "codemirror_mode": {
    "name": "ipython",
    "version": 3
   },
   "file_extension": ".py",
   "mimetype": "text/x-python",
   "name": "python",
   "nbconvert_exporter": "python",
   "pygments_lexer": "ipython3",
   "version": "3.12.4"
  }
 },
 "nbformat": 4,
 "nbformat_minor": 5
}
